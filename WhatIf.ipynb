{
 "cells": [
  {
   "cell_type": "markdown",
   "metadata": {},
   "source": [
    "# Educational Innovation's Wonderful What-If Academic Simulator!"
   ]
  },
  {
   "cell_type": "markdown",
   "metadata": {},
   "source": [
    "Hi! This notebook is here to walk you through simulating changes to a curriculum. You give us the file and the desired change and we'll tell you how that affects complexity and centrality, and why. But first, let us do some basic-set up"
   ]
  },
  {
   "cell_type": "code",
   "execution_count": null,
   "metadata": {},
   "outputs": [],
   "source": [
    "using CurricularAnalytics,CurricularVisualization,Blink\n",
    "include(\"./Diff.jl\")\n",
    "include(\"./Whatif.jl\")"
   ]
  }
 ],
 "metadata": {
  "kernelspec": {
   "display_name": "Julia 1.7.2",
   "language": "julia",
   "name": "julia-1.7"
  },
  "language_info": {
   "file_extension": ".jl",
   "mimetype": "application/julia",
   "name": "julia",
   "version": "1.7.2"
  }
 },
 "nbformat": 4,
 "nbformat_minor": 4
}
