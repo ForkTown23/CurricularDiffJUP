{
 "cells": [
  {
   "cell_type": "markdown",
   "metadata": {},
   "source": [
    "# Educational Innovation's Wonderful What-If Academic Simulator!"
   ]
  },
  {
   "cell_type": "markdown",
   "metadata": {},
   "source": [
    "Hi! This notebook is here to walk you through simulating changes to a curriculum. You give us the file and the desired change and we'll tell you how that affects complexity and centrality, and why. But first, let us do some basic-set up"
   ]
  },
  {
   "cell_type": "code",
   "execution_count": null,
   "metadata": {},
   "outputs": [],
   "source": [
    "import Pkg;\n",
    "using Pkg;\n",
    "Pkg.instantiate();\n",
    "Pkg.precompile();\n",
    "Pkg.resolve();\n",
    "Pkg.add(\"CSV\");\n",
    "#Pkg.add(Pkg.PackageSpec(;name=\"CSV\", version=\"0.7.10\"))\n",
    "Pkg.add(\"Graphs\");\n",
    "Pkg.add(\"DataStructures\");\n",
    "Pkg.add(\"Printf\");\n",
    "Pkg.add(\"Markdown\");\n",
    "Pkg.add(\"Documenter\");\n",
    "Pkg.add(\"Dates\");\n",
    "Pkg.add(\"MetaGraphs\");\n",
    "Pkg.add(Pkg.PackageSpec(;name=\"CurricularAnalytics\", version=\"1.3.3\"));\n",
    "Pkg.add(\"Crayons\");\n",
    "#Pkg.update()\n",
    "#using CSVS\n",
    "using CurricularAnalytics;\n",
    "#CurricularVisualization,Blink\n",
    "include(\"./Diff.jl\");\n",
    "include(\"ResultPrint.jl\")\n",
    "include(\"./Whatif.jl\");\n",
    "include(\"./HelperFns.jl\");"
   ]
  },
  {
   "cell_type": "markdown",
   "metadata": {},
   "source": [
    "Ok! We're all set! There are four modifications you can make: you can add a course, remove a course, add a prereq and remove a prereq. After adding the curriculum you wish to change by running the next cell, just scroll on down to the section you want to work with."
   ]
  },
  {
   "cell_type": "code",
   "execution_count": null,
   "metadata": {},
   "outputs": [],
   "source": [
    "curr = read_csv(\"./targets/FILENAME.csv\");"
   ]
  },
  {
   "cell_type": "markdown",
   "metadata": {},
   "source": [
    "# Make modifications"
   ]
  },
  {
   "cell_type": "markdown",
   "metadata": {},
   "source": [
    "## Add a Course:\n"
   ]
  },
  {
   "cell_type": "markdown",
   "metadata": {},
   "source": [
    "Let's add a course. A course is defined by a few things. It has a name, credit_hours, and prerequisites. It also usually has a list of classes that depend on it. Lets define those things right now. \n",
    "\n",
    "NOTE:\n",
    "When editing the prereqs field, make sure the \"COURSE NAME #\" field is replaced by the name of the existing course in the target curriculum that is to become a prereq of your new course. The same concept applies to the \"COURSE NAME #\" in the dependencies field. Once you're done adding prerequisites and dependencies, delete the extra fields.\n",
    "Pre refers to the type of prerequisite. For now, let's leave that alone."
   ]
  },
  {
   "cell_type": "markdown",
   "metadata": {},
   "source": [
    "As an example, let's try to add MATH 20C to a curriculum.\n",
    "\n",
    "new_course_name = \"MATH 20C\"\n",
    "\n",
    "new_course_credit_hours = 4.0\n",
    "\n",
    "prereqs = Dict(\"MATH 18\" => pre,\n",
    "               \"MATH 20B\" => pre)\n",
    "               \n",
    "dependencies = Dict(\"MATH 20D\" => pre, \"MATH 20E\" => pre)\n",
    "\n",
    "Note that in a curriculum where MATH 20B is called \"MATH 20B/10B\" or something like that you must use the name used in the curriculum file, otherwise this will NOT work. "
   ]
  },
  {
   "cell_type": "code",
   "execution_count": null,
   "metadata": {},
   "outputs": [],
   "source": [
    "new_course_name = \"COURSE NAME\"\n",
    "new_course_credit_hours = 4.0 # defualt, you can change it to 1.0,2.0,3.0, etc\n",
    "prereqs = Dict(\"COURSE NAME 1\" => pre,\n",
    "               \"COURSE NAME 2\" => pre,\n",
    "               \"COURSE NAME 3\" => pre)\n",
    "dependencies = Dict(\"COURSE NAME 1\" => pre,\n",
    "                    \"COURSE NAME 2\" => pre,\n",
    "                    \"COURSE NAME 3\" => pre)"
   ]
  },
  {
   "cell_type": "markdown",
   "metadata": {},
   "source": [
    "Run the above cell once you're done, then run this one:"
   ]
  },
  {
   "cell_type": "code",
   "execution_count": null,
   "metadata": {},
   "outputs": [],
   "source": [
    "new_curric = add_course(curr, new_course_name, new_course_credit_hrs, prereqs, dependencies)"
   ]
  },
  {
   "cell_type": "markdown",
   "metadata": {},
   "source": [
    "## Remove a course"
   ]
  },
  {
   "cell_type": "markdown",
   "metadata": {},
   "source": [
    "Removing a course is pretty easy. Just tell us the name of the course to be removed in the field below. Remember, it must match exactly with the name used in the curriculum file. "
   ]
  },
  {
   "cell_type": "code",
   "execution_count": null,
   "metadata": {},
   "outputs": [],
   "source": [
    "course_to_remove = \"COURSE NAME\""
   ]
  },
  {
   "cell_type": "markdown",
   "metadata": {},
   "source": [
    "Then, run this cell:"
   ]
  },
  {
   "cell_type": "code",
   "execution_count": null,
   "metadata": {},
   "outputs": [],
   "source": [
    "new_curric = remove_course(curr, course_to_remove)"
   ]
  },
  {
   "cell_type": "markdown",
   "metadata": {},
   "source": [
    "## Add a prerequisite"
   ]
  },
  {
   "cell_type": "markdown",
   "metadata": {},
   "source": [
    "To add a prerequisite to a course tell us the name of the course, and the name of the prerequisite you wish to add to it. Remember, both names must already exist in the curriculum and must match exactly with your names. For example, if MATH 20B shows up as \"MATH 20B/10B\" in your curriculum, use that."
   ]
  },
  {
   "cell_type": "code",
   "execution_count": null,
   "metadata": {},
   "outputs": [],
   "source": [
    "course_name = \"COURSE TO GET A PREREQUISITE\"\n",
    "prerequisite = \"COURSE NAME\"\n",
    "req_type = pre"
   ]
  },
  {
   "cell_type": "markdown",
   "metadata": {},
   "source": [
    "Once you're ready, run this cell:"
   ]
  },
  {
   "cell_type": "code",
   "execution_count": null,
   "metadata": {},
   "outputs": [],
   "source": [
    "new_curric = add_prereq(curr, course_name, prerequisite,req_type)"
   ]
  },
  {
   "cell_type": "markdown",
   "metadata": {},
   "source": [
    "## Remove a prerequisite"
   ]
  },
  {
   "cell_type": "markdown",
   "metadata": {},
   "source": [
    "Removing a prerequisite needs the name of the course in question, and the name of the course which we want to remove as its prerequisite. Remember the names need to match the ones used in the curriculum file exactly."
   ]
  },
  {
   "cell_type": "code",
   "execution_count": null,
   "metadata": {},
   "outputs": [],
   "source": [
    "course_name = \"COURSE TO LOSE A PREREQUISITE\";\n",
    "prerequisite = \"COURSE NAME\";"
   ]
  },
  {
   "cell_type": "markdown",
   "metadata": {},
   "source": [
    "All good? Run the cell below"
   ]
  },
  {
   "cell_type": "code",
   "execution_count": null,
   "metadata": {},
   "outputs": [],
   "source": [
    "new_curric = remove_prereq(curr,course_name,prerequisite);"
   ]
  },
  {
   "cell_type": "markdown",
   "metadata": {},
   "source": [
    "# How did that affect the Curricular Metrics?"
   ]
  },
  {
   "cell_type": "markdown",
   "metadata": {},
   "source": [
    "This is an easy question to answer. Just run the cell below after having made a new_curric with one of the previous modifications"
   ]
  },
  {
   "cell_type": "code",
   "execution_count": null,
   "metadata": {},
   "outputs": [],
   "source": [
    "results = curricular_diff(curr,new_curric);"
   ]
  },
  {
   "cell_type": "markdown",
   "metadata": {},
   "source": [
    "Once you're done with that, choose how you want to see your results: executive summary or pretty print"
   ]
  },
  {
   "cell_type": "code",
   "execution_count": null,
   "metadata": {},
   "outputs": [],
   "source": [
    "executive_summary_curriculum(results)"
   ]
  },
  {
   "cell_type": "code",
   "execution_count": null,
   "metadata": {},
   "outputs": [],
   "source": [
    "pretty_print_curriculum_results(results, ALL)"
   ]
  }
 ],
 "metadata": {
  "kernelspec": {
   "display_name": "Julia 1.7.2",
   "language": "julia",
   "name": "julia-1.7"
  },
  "language_info": {
   "file_extension": ".jl",
   "mimetype": "application/julia",
   "name": "julia",
   "version": "1.7.2"
  }
 },
 "nbformat": 4,
 "nbformat_minor": 4
}
